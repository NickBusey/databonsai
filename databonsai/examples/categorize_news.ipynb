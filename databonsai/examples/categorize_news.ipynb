{
 "cells": [
  {
   "cell_type": "code",
   "execution_count": 2,
   "metadata": {},
   "outputs": [],
   "source": [
    "from databonsai.categorize import MultiCategorizer, BaseCategorizer\n",
    "from databonsai.transform import BaseTransformer\n",
    "from databonsai.llm_providers import OpenAIProvider, AnthropicProvider, OllamaProvider\n",
    "from databonsai.utils import (\n",
    "    apply_to_column,\n",
    "    apply_to_column_batch,\n",
    "    apply_to_column_autobatch,\n",
    ")\n",
    "import pandas as pd"
   ]
  },
  {
   "cell_type": "code",
   "execution_count": 3,
   "metadata": {},
   "outputs": [],
   "source": [
    "provider = OpenAIProvider(model=\"gpt-3.5-turbo\")  # Or AnthropicProvider()"
   ]
  },
  {
   "cell_type": "code",
   "execution_count": 4,
   "metadata": {},
   "outputs": [],
   "source": [
    "categories = {\n",
    "    \"Weather\": \"Insights and remarks about weather conditions.\",\n",
    "    \"Sports\": \"Observations and comments on sports events.\",\n",
    "    \"Politics\": \"Political events related to governments, nations, or geopolitical issues.\",\n",
    "    \"Celebrities\": \"Celebrity sightings and gossip\",\n",
    "    \"Tech\": \"News and updates about technology and tech companies.\",\n",
    "    \"Others\": \"Comments do not fit into any of the above categories\",  # Best practice in case it can't be categorized easily\n",
    "    \"Anomaly\": \"Data that does not look like comments or natural language\",  # Helps to flag unclean/problematic data\n",
    "}\n",
    "categorizer = BaseCategorizer(\n",
    "    categories=categories,\n",
    "    llm_provider=provider,\n",
    "    examples=[\n",
    "        {\"example\": \"Big stormy skies over city\", \"response\": \"Weather\"},\n",
    "        {\"example\": \"The team won the championship\", \"response\": \"Sports\"},\n",
    "        {\"example\": \"I saw a famous rapper at the mall\", \"response\": \"Celebrities\"},\n",
    "    ],\n",
    ")"
   ]
  },
  {
   "cell_type": "code",
   "execution_count": 5,
   "metadata": {},
   "outputs": [],
   "source": [
    "headlines2 = [\n",
    "    \"Local Fire Department Honored with National Award for Bravery\",\n",
    "    \"Breakthrough Research Promises New Treatment for Alzheimer’s Disease\",\n",
    "    \"Major Airline Announces Expansion of International Routes\",\n",
    "    \"Historic Peace Agreement Signed Between Rival Nations\",\n",
    "    \"City Council Votes to Increase Funding for Public Libraries\",\n",
    "    \"Renowned Chef Opens Vegan Restaurant in Downtown\",\n",
    "    \"Veteran Astronaut Set to Lead Next Moon Mission\",\n",
    "    \"Global Music Festival Raises Funds for Refugee Relief\",\n",
    "    \"Innovative Urban Farming Techniques Revolutionize City Life\",\n",
    "    \"Climate Summit Sets Ambitious Goals for Carbon Reduction\",\n",
    "    \"Documentary Film Exposing Corruption Premieres to Critical Acclaim\",\n",
    "    \"New Legislation Aims to Boost Small Businesses\",\n",
    "    \"Ancient Shipwreck Discovered Off the Coast of Sicily\",\n",
    "    \"World Health Organization Declares New Strain of Virus Contained\",\n",
    "    \"International Art Theft Ring Busted by Joint Task Force\",\n",
    "    \"Leading Economists Predict Global Recession in Next Year\",\n",
    "    \"Celebrity Fashion Designer Debuts Eco-Friendly Line\",\n",
    "    \"Major Breakthrough in Quantum Encryption Technology Announced\",\n",
    "    \"Wildlife Conservation Efforts Successfully Increase Tiger Population\",\n",
    "    \"Rare Astronomical Event Visible This Weekend\",\n",
    "    \"Nationwide Protests Demand Action on Climate Change\",\n",
    "    \"Revolutionary New Battery Design Could Transform Renewable Energy Storage\",\n",
    "    \"Record-Breaking Heatwave Strikes Southern Europe\",\n",
    "    \"Underground Water Reserves Discovered Beneath Sahara Desert\",\n",
    "    \"Virtual Reality Platform Takes Online Education to New Heights\",\n",
    "    \"Controversial New Policy Sparks Debate Over Internet Privacy\",\n",
    "    \"Youngest Nobel Laureate Awarded for Work in Peace Building\",\n",
    "    \"Sports League Implements New Rules to Protect Players from Concussions\",\n",
    "    \"Historic Church Undergoes Restoration to Preserve Cultural Heritage\",\n",
    "    \"Pioneering Surgery Gives New Hope to Heart Disease Patients\",\n",
    "    \"Wildfires Rage Across California, Thousands Evacuated\",\n",
    "    \"Tech Start-Up Revolutionizes Mobile Payment Systems\",\n",
    "    \"Pharmaceutical Company Faces Lawsuit Over Drug Side Effects\",\n",
    "    \"Renewable Energy Now Powers Entire Small Nation\",\n",
    "    \"Central Bank Raises Interest Rates in Surprise Move\",\n",
    "    \"Marine Biologists Discover New Species in the Deep Ocean\",\n",
    "    \"Global Conference on Women's Rights Concludes with Action Plan\",\n",
    "    \"Country Music Star Reveals Struggle with Mental Health in New Album\",\n",
    "    \"Massive Oil Spill Threatens Wildlife Along the Coast\",\n",
    "    \"Protests Erupt as Government Cuts Healthcare Funding\",\n",
    "    \"Archaeologists Uncover New Evidence of Ancient Civilization in Thailand\",\n",
    "    \"Fashion Week Highlights Sustainability in New Collections\",\n",
    "    \"New Strain of Wheat Could Increase Crop Yields Substantially\",\n",
    "    \"Scientists Link Air Pollution to Decline in Urban Wildlife\",\n",
    "    \"Innovative Community Program Cuts Urban Crime Rate\",\n",
    "    \"Next Generation of Smartphones Features Advanced AI Capabilities\",\n",
    "    \"Historical Drama Film Set to Break Box Office Records\",\n",
    "    \"Study Shows Increase in Cyber Attacks on Financial Institutions\",\n",
    "    \"New Yoga Trend Combines Traditional Practices with Modern Technology\",\n",
    "    \"Local Community Garden Doubles as Educational Facility for Schools\",\n",
    "]"
   ]
  },
  {
   "cell_type": "code",
   "execution_count": 6,
   "metadata": {},
   "outputs": [
    {
     "name": "stderr",
     "output_type": "stream",
     "text": [
      "Categorizing:   0%|          | 0/50 [00:00<?, ?row/s]"
     ]
    },
    {
     "name": "stdout",
     "output_type": "stream",
     "text": [
      "Retrying with smaller batch size: 4\n"
     ]
    },
    {
     "name": "stderr",
     "output_type": "stream",
     "text": [
      "Categorizing: 100%|██████████| 50/50 [00:04<00:00, 11.98row/s]\n"
     ]
    }
   ],
   "source": [
    "categories = []\n",
    "idx = apply_to_column_autobatch(\n",
    "    headlines2,\n",
    "    categories,\n",
    "    categorizer.categorize_batch,\n",
    "    max_retries=3,\n",
    "    batch_size=5,\n",
    "    ramp_factor=1.7,\n",
    "    max_batch_size=20,\n",
    "    ramp_factor_decay=0.98,\n",
    "    reduce_factor=0.7,\n",
    "    reduce_factor_decay=0.9,\n",
    "    start_idx=0,\n",
    ")"
   ]
  },
  {
   "cell_type": "code",
   "execution_count": 7,
   "metadata": {},
   "outputs": [
    {
     "name": "stdout",
     "output_type": "stream",
     "text": [
      "['Politics', 'Tech', 'Others', 'Politics', 'Politics', 'Celebrities', 'Others', 'Others', 'Tech', 'Politics', 'Celebrities', 'Politics', 'Others', 'Others', 'Others', 'Others', 'Celebrities', 'Tech', 'Others', 'Weather', 'Politics', 'Tech', 'Weather', 'Tech', 'Tech', 'Politics', 'Celebrities', 'Sports', 'Others', 'Tech', 'Weather', 'Tech', 'Politics', 'Weather', 'Politics', 'Others', 'Celebrities', 'Weather', 'Politics', 'Others', 'Celebrities', 'Others', 'Others', 'Politics', 'Others', 'Tech', 'Celebrities', 'Tech', 'Others', 'Others']\n"
     ]
    }
   ],
   "source": [
    "print(categories)"
   ]
  },
  {
   "cell_type": "code",
   "execution_count": null,
   "metadata": {},
   "outputs": [],
   "source": []
  }
 ],
 "metadata": {
  "kernelspec": {
   "display_name": "venv",
   "language": "python",
   "name": "python3"
  },
  "language_info": {
   "codemirror_mode": {
    "name": "ipython",
    "version": 3
   },
   "file_extension": ".py",
   "mimetype": "text/x-python",
   "name": "python",
   "nbconvert_exporter": "python",
   "pygments_lexer": "ipython3",
   "version": "3.12.2"
  }
 },
 "nbformat": 4,
 "nbformat_minor": 2
}
